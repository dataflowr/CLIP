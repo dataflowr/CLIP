{
  "nbformat": 4,
  "nbformat_minor": 0,
  "metadata": {
    "colab": {
      "name": "Interacting_with_CLIP.ipynb",
      "provenance": [],
      "collapsed_sections": [
        "4W8ARJVqBJXs"
      ],
      "toc_visible": true
    },
    "kernelspec": {
      "name": "python3",
      "display_name": "Python 3"
    },
    "accelerator": "GPU"
  },
  "cells": [
    {
      "cell_type": "markdown",
      "metadata": {
        "id": "YPHN7PJgKOzb"
      },
      "source": [
        "# Interacting with CLIP\n",
        "\n",
        "This is a self-contained notebook that shows how to download and run CLIP models, calculate the similarity between arbitrary image and text inputs, and perform zero-shot image classifications."
      ]
    },
    {
      "cell_type": "markdown",
      "metadata": {
        "id": "53N4k0pj_9qL"
      },
      "source": [
        "# Preparation for Colab\n",
        "\n",
        "Make sure you're running a GPU runtime; if not, select \"GPU\" as the hardware accelerator in Runtime > Change Runtime Type in the menu. The next cells will print the CUDA version of the runtime if it has a GPU, and install PyTorch 1.7.1."
      ]
    },
    {
      "cell_type": "code",
      "metadata": {
        "colab": {
          "base_uri": "https://localhost:8080/"
        },
        "id": "0BpdJkdBssk9",
        "outputId": "1fb77b25-656b-4e52-bbbb-d3410ec47617"
      },
      "source": [
        "import subprocess\n",
        "\n",
        "CUDA_version = [s for s in subprocess.check_output([\"nvcc\", \"--version\"]).decode(\"UTF-8\").split(\", \") if s.startswith(\"release\")][0].split(\" \")[-1]\n",
        "print(\"CUDA version:\", CUDA_version)\n",
        "\n",
        "if CUDA_version == \"10.0\":\n",
        "    torch_version_suffix = \"+cu100\"\n",
        "elif CUDA_version == \"10.1\":\n",
        "    torch_version_suffix = \"+cu101\"\n",
        "elif CUDA_version == \"10.2\":\n",
        "    torch_version_suffix = \"\"\n",
        "else:\n",
        "    torch_version_suffix = \"+cu110\""
      ],
      "execution_count": 1,
      "outputs": [
        {
          "output_type": "stream",
          "text": [
            "CUDA version: 11.0\n"
          ],
          "name": "stdout"
        }
      ]
    },
    {
      "cell_type": "code",
      "metadata": {
        "id": "RBVr18E5tse8"
      },
      "source": [
        "! pip install torch==1.7.1{torch_version_suffix} torchvision==0.8.2{torch_version_suffix} -f https://download.pytorch.org/whl/torch_stable.html ftfy regex"
      ],
      "execution_count": null,
      "outputs": []
    },
    {
      "cell_type": "code",
      "metadata": {
        "id": "C1hkDT38hSaP",
        "colab": {
          "base_uri": "https://localhost:8080/"
        },
        "outputId": "8fddb55c-fefd-49d4-de8a-f79b457504b7"
      },
      "source": [
        "import numpy as np\n",
        "import torch\n",
        "\n",
        "print(\"Torch version:\", torch.__version__)"
      ],
      "execution_count": 3,
      "outputs": [
        {
          "output_type": "stream",
          "text": [
            "Torch version: 1.7.1+cu110\n"
          ],
          "name": "stdout"
        }
      ]
    },
    {
      "cell_type": "markdown",
      "metadata": {
        "id": "eFxgLV5HAEEw"
      },
      "source": [
        "# Downloading the model\n",
        "\n",
        "CLIP models are distributed as TorchScript modules."
      ]
    },
    {
      "cell_type": "code",
      "metadata": {
        "id": "uLFS29hnhlY4"
      },
      "source": [
        "MODELS = {\n",
        "    \"ViT-B/32\":       \"https://openaipublic.azureedge.net/clip/models/40d365715913c9da98579312b702a82c18be219cc2a73407c4526f58eba950af/ViT-B-32.pt\",\n",
        "}"
      ],
      "execution_count": 4,
      "outputs": []
    },
    {
      "cell_type": "code",
      "metadata": {
        "id": "cboKZocQlSYX",
        "colab": {
          "base_uri": "https://localhost:8080/"
        },
        "outputId": "47afe0e1-9a4a-42c7-dfd1-334f9020d7be"
      },
      "source": [
        "! wget {MODELS[\"ViT-B/32\"]} -O model.pt"
      ],
      "execution_count": 5,
      "outputs": [
        {
          "output_type": "stream",
          "text": [
            "--2021-03-07 19:24:01--  https://openaipublic.azureedge.net/clip/models/40d365715913c9da98579312b702a82c18be219cc2a73407c4526f58eba950af/ViT-B-32.pt\n",
            "Resolving openaipublic.azureedge.net (openaipublic.azureedge.net)... 13.107.246.19, 13.107.213.19, 2620:1ec:bdf::19, ...\n",
            "Connecting to openaipublic.azureedge.net (openaipublic.azureedge.net)|13.107.246.19|:443... connected.\n",
            "HTTP request sent, awaiting response... 200 OK\n",
            "Length: 353976522 (338M) [application/octet-stream]\n",
            "Saving to: ‘model.pt’\n",
            "\n",
            "model.pt            100%[===================>] 337.58M  31.5MB/s    in 11s     \n",
            "\n",
            "2021-03-07 19:24:12 (31.5 MB/s) - ‘model.pt’ saved [353976522/353976522]\n",
            "\n"
          ],
          "name": "stdout"
        }
      ]
    },
    {
      "cell_type": "code",
      "metadata": {
        "colab": {
          "base_uri": "https://localhost:8080/"
        },
        "id": "IBRVTY9lbGm8",
        "outputId": "55b0c784-3215-400e-a5cd-e2459e57eee4"
      },
      "source": [
        "model = torch.jit.load(\"model.pt\").cuda().eval()\n",
        "input_resolution = model.input_resolution.item()\n",
        "context_length = model.context_length.item()\n",
        "vocab_size = model.vocab_size.item()\n",
        "\n",
        "print(\"Model parameters:\", f\"{np.sum([int(np.prod(p.shape)) for p in model.parameters()]):,}\")\n",
        "print(\"Input resolution:\", input_resolution)\n",
        "print(\"Context length:\", context_length)\n",
        "print(\"Vocab size:\", vocab_size)"
      ],
      "execution_count": 6,
      "outputs": [
        {
          "output_type": "stream",
          "text": [
            "Model parameters: 151,277,313\n",
            "Input resolution: 224\n",
            "Context length: 77\n",
            "Vocab size: 49408\n"
          ],
          "name": "stdout"
        }
      ]
    },
    {
      "cell_type": "markdown",
      "metadata": {
        "id": "21slhZGCqANb"
      },
      "source": [
        "# Image Preprocessing\n",
        "\n",
        "We resize the input images and center-crop them to conform with the image resolution that the model expects. Before doing so, we will normalize the pixel intensity using the dataset mean and standard deviation.\n",
        "\n"
      ]
    },
    {
      "cell_type": "code",
      "metadata": {
        "id": "d6cpiIFHp9N6"
      },
      "source": [
        "from torchvision.transforms import Compose, Resize, CenterCrop, ToTensor, Normalize\n",
        "from PIL import Image\n",
        "\n",
        "preprocess = Compose([\n",
        "    Resize(input_resolution, interpolation=Image.BICUBIC),\n",
        "    CenterCrop(input_resolution),\n",
        "    ToTensor()\n",
        "])\n",
        "\n",
        "image_mean = torch.tensor([0.48145466, 0.4578275, 0.40821073]).cuda()\n",
        "image_std = torch.tensor([0.26862954, 0.26130258, 0.27577711]).cuda()"
      ],
      "execution_count": 7,
      "outputs": []
    },
    {
      "cell_type": "markdown",
      "metadata": {
        "id": "xwSB5jZki3Cj"
      },
      "source": [
        "# Text Preprocessing\n",
        "\n",
        "We use a case-insensitive tokenizer. The tokenizer code is hidden in the second cell below"
      ]
    },
    {
      "cell_type": "code",
      "metadata": {
        "colab": {
          "base_uri": "https://localhost:8080/"
        },
        "id": "qGom156-i2kL",
        "outputId": "6a33b7ce-ebae-4b2a-9be0-d5dcd3f4a761"
      },
      "source": [
        "! pip install ftfy regex\n",
        "! wget https://openaipublic.azureedge.net/clip/bpe_simple_vocab_16e6.txt.gz -O bpe_simple_vocab_16e6.txt.gz"
      ],
      "execution_count": 8,
      "outputs": [
        {
          "output_type": "stream",
          "text": [
            "Requirement already satisfied: ftfy in /usr/local/lib/python3.7/dist-packages (5.9)\n",
            "Requirement already satisfied: regex in /usr/local/lib/python3.7/dist-packages (2019.12.20)\n",
            "Requirement already satisfied: wcwidth in /usr/local/lib/python3.7/dist-packages (from ftfy) (0.2.5)\n",
            "--2021-03-07 19:24:19--  https://openaipublic.azureedge.net/clip/bpe_simple_vocab_16e6.txt.gz\n",
            "Resolving openaipublic.azureedge.net (openaipublic.azureedge.net)... 13.107.246.19, 13.107.213.19, 2620:1ec:bdf::19, ...\n",
            "Connecting to openaipublic.azureedge.net (openaipublic.azureedge.net)|13.107.246.19|:443... connected.\n",
            "HTTP request sent, awaiting response... 200 OK\n",
            "Length: 1356917 (1.3M) [application/octet-stream]\n",
            "Saving to: ‘bpe_simple_vocab_16e6.txt.gz’\n",
            "\n",
            "bpe_simple_vocab_16 100%[===================>]   1.29M  --.-KB/s    in 0.06s   \n",
            "\n",
            "2021-03-07 19:24:19 (23.0 MB/s) - ‘bpe_simple_vocab_16e6.txt.gz’ saved [1356917/1356917]\n",
            "\n"
          ],
          "name": "stdout"
        }
      ]
    },
    {
      "cell_type": "code",
      "metadata": {
        "id": "toGtcd-Ji_MD"
      },
      "source": [
        "#@title\n",
        "\n",
        "import gzip\n",
        "import html\n",
        "import os\n",
        "from functools import lru_cache\n",
        "\n",
        "import ftfy\n",
        "import regex as re\n",
        "\n",
        "\n",
        "@lru_cache()\n",
        "def bytes_to_unicode():\n",
        "    \"\"\"\n",
        "    Returns list of utf-8 byte and a corresponding list of unicode strings.\n",
        "    The reversible bpe codes work on unicode strings.\n",
        "    This means you need a large # of unicode characters in your vocab if you want to avoid UNKs.\n",
        "    When you're at something like a 10B token dataset you end up needing around 5K for decent coverage.\n",
        "    This is a signficant percentage of your normal, say, 32K bpe vocab.\n",
        "    To avoid that, we want lookup tables between utf-8 bytes and unicode strings.\n",
        "    And avoids mapping to whitespace/control characters the bpe code barfs on.\n",
        "    \"\"\"\n",
        "    bs = list(range(ord(\"!\"), ord(\"~\")+1))+list(range(ord(\"¡\"), ord(\"¬\")+1))+list(range(ord(\"®\"), ord(\"ÿ\")+1))\n",
        "    cs = bs[:]\n",
        "    n = 0\n",
        "    for b in range(2**8):\n",
        "        if b not in bs:\n",
        "            bs.append(b)\n",
        "            cs.append(2**8+n)\n",
        "            n += 1\n",
        "    cs = [chr(n) for n in cs]\n",
        "    return dict(zip(bs, cs))\n",
        "\n",
        "\n",
        "def get_pairs(word):\n",
        "    \"\"\"Return set of symbol pairs in a word.\n",
        "    Word is represented as tuple of symbols (symbols being variable-length strings).\n",
        "    \"\"\"\n",
        "    pairs = set()\n",
        "    prev_char = word[0]\n",
        "    for char in word[1:]:\n",
        "        pairs.add((prev_char, char))\n",
        "        prev_char = char\n",
        "    return pairs\n",
        "\n",
        "\n",
        "def basic_clean(text):\n",
        "    text = ftfy.fix_text(text)\n",
        "    text = html.unescape(html.unescape(text))\n",
        "    return text.strip()\n",
        "\n",
        "\n",
        "def whitespace_clean(text):\n",
        "    text = re.sub(r'\\s+', ' ', text)\n",
        "    text = text.strip()\n",
        "    return text\n",
        "\n",
        "\n",
        "class SimpleTokenizer(object):\n",
        "    def __init__(self, bpe_path: str = \"bpe_simple_vocab_16e6.txt.gz\"):\n",
        "        self.byte_encoder = bytes_to_unicode()\n",
        "        self.byte_decoder = {v: k for k, v in self.byte_encoder.items()}\n",
        "        merges = gzip.open(bpe_path).read().decode(\"utf-8\").split('\\n')\n",
        "        merges = merges[1:49152-256-2+1]\n",
        "        merges = [tuple(merge.split()) for merge in merges]\n",
        "        vocab = list(bytes_to_unicode().values())\n",
        "        vocab = vocab + [v+'</w>' for v in vocab]\n",
        "        for merge in merges:\n",
        "            vocab.append(''.join(merge))\n",
        "        vocab.extend(['<|startoftext|>', '<|endoftext|>'])\n",
        "        self.encoder = dict(zip(vocab, range(len(vocab))))\n",
        "        self.decoder = {v: k for k, v in self.encoder.items()}\n",
        "        self.bpe_ranks = dict(zip(merges, range(len(merges))))\n",
        "        self.cache = {'<|startoftext|>': '<|startoftext|>', '<|endoftext|>': '<|endoftext|>'}\n",
        "        self.pat = re.compile(r\"\"\"<\\|startoftext\\|>|<\\|endoftext\\|>|'s|'t|'re|'ve|'m|'ll|'d|[\\p{L}]+|[\\p{N}]|[^\\s\\p{L}\\p{N}]+\"\"\", re.IGNORECASE)\n",
        "\n",
        "    def bpe(self, token):\n",
        "        if token in self.cache:\n",
        "            return self.cache[token]\n",
        "        word = tuple(token[:-1]) + ( token[-1] + '</w>',)\n",
        "        pairs = get_pairs(word)\n",
        "\n",
        "        if not pairs:\n",
        "            return token+'</w>'\n",
        "\n",
        "        while True:\n",
        "            bigram = min(pairs, key = lambda pair: self.bpe_ranks.get(pair, float('inf')))\n",
        "            if bigram not in self.bpe_ranks:\n",
        "                break\n",
        "            first, second = bigram\n",
        "            new_word = []\n",
        "            i = 0\n",
        "            while i < len(word):\n",
        "                try:\n",
        "                    j = word.index(first, i)\n",
        "                    new_word.extend(word[i:j])\n",
        "                    i = j\n",
        "                except:\n",
        "                    new_word.extend(word[i:])\n",
        "                    break\n",
        "\n",
        "                if word[i] == first and i < len(word)-1 and word[i+1] == second:\n",
        "                    new_word.append(first+second)\n",
        "                    i += 2\n",
        "                else:\n",
        "                    new_word.append(word[i])\n",
        "                    i += 1\n",
        "            new_word = tuple(new_word)\n",
        "            word = new_word\n",
        "            if len(word) == 1:\n",
        "                break\n",
        "            else:\n",
        "                pairs = get_pairs(word)\n",
        "        word = ' '.join(word)\n",
        "        self.cache[token] = word\n",
        "        return word\n",
        "\n",
        "    def encode(self, text):\n",
        "        bpe_tokens = []\n",
        "        text = whitespace_clean(basic_clean(text)).lower()\n",
        "        for token in re.findall(self.pat, text):\n",
        "            token = ''.join(self.byte_encoder[b] for b in token.encode('utf-8'))\n",
        "            bpe_tokens.extend(self.encoder[bpe_token] for bpe_token in self.bpe(token).split(' '))\n",
        "        return bpe_tokens\n",
        "\n",
        "    def decode(self, tokens):\n",
        "        text = ''.join([self.decoder[token] for token in tokens])\n",
        "        text = bytearray([self.byte_decoder[c] for c in text]).decode('utf-8', errors=\"replace\").replace('</w>', ' ')\n",
        "        return text\n"
      ],
      "execution_count": 9,
      "outputs": []
    },
    {
      "cell_type": "markdown",
      "metadata": {
        "id": "KsYHp4eZhUu2"
      },
      "source": [
        "# Zero-shot classification for Oxford buildings dataset."
      ]
    },
    {
      "cell_type": "markdown",
      "metadata": {
        "id": "JBFnNU-1xYEB"
      },
      "source": [
        "#### Getting dataset"
      ]
    },
    {
      "cell_type": "code",
      "metadata": {
        "colab": {
          "base_uri": "https://localhost:8080/"
        },
        "id": "LEkn3_jDxS5V",
        "outputId": "4a05b0f8-121b-4fbb-9156-6f245b4d79b7"
      },
      "source": [
        "%mkdir data\n",
        "%cd data\n",
        "%mkdir buildings\n",
        "# the following line should be modified if you run the notebook on your computer\n",
        "# change directory to data where you will store the dataset\n",
        "%cd /content/data/buildings\n",
        "!wget https://www.robots.ox.ac.uk/~vgg/data/oxbuildings/oxbuild_images.tgz"
      ],
      "execution_count": 10,
      "outputs": [
        {
          "output_type": "stream",
          "text": [
            "/content/data\n",
            "/content/data/buildings\n",
            "--2021-03-07 19:24:20--  https://www.robots.ox.ac.uk/~vgg/data/oxbuildings/oxbuild_images.tgz\n",
            "Resolving www.robots.ox.ac.uk (www.robots.ox.ac.uk)... 129.67.94.2\n",
            "Connecting to www.robots.ox.ac.uk (www.robots.ox.ac.uk)|129.67.94.2|:443... connected.\n",
            "HTTP request sent, awaiting response... 200 OK\n",
            "Length: 1980280437 (1.8G) [application/x-gzip]\n",
            "Saving to: ‘oxbuild_images.tgz’\n",
            "\n",
            "oxbuild_images.tgz  100%[===================>]   1.84G  21.6MB/s    in 88s     \n",
            "\n",
            "2021-03-07 19:25:49 (21.4 MB/s) - ‘oxbuild_images.tgz’ saved [1980280437/1980280437]\n",
            "\n"
          ],
          "name": "stdout"
        }
      ]
    },
    {
      "cell_type": "code",
      "metadata": {
        "id": "MoQ8rwZTz9bV"
      },
      "source": [
        "!tar -zxvf oxbuild_images.tgz"
      ],
      "execution_count": null,
      "outputs": []
    },
    {
      "cell_type": "code",
      "metadata": {
        "id": "Me38hdndGYHY"
      },
      "source": [
        "# create directory if it does not exist\n",
        "def check_dir(dir_path):\n",
        "    dir_path = dir_path.replace('//','/')\n",
        "    os.makedirs(dir_path, exist_ok=True)"
      ],
      "execution_count": 12,
      "outputs": []
    },
    {
      "cell_type": "code",
      "metadata": {
        "id": "gMnuWN0NGnZR"
      },
      "source": [
        "import os\n",
        "from os import listdir\n",
        "from os.path import isfile, join\n",
        "\n",
        "data_dir = '/content/data'\n",
        "\n",
        "import shutil\n",
        "for f in listdir(join(data_dir, 'buildings')):\n",
        "    # create directory if necessary\n",
        "    path = join(data_dir, f[:-11])\n",
        "    check_dir(path)\n",
        "    # copy to target directory\n",
        "    src_path = join(data_dir, 'buildings', f)\n",
        "    targ_path = join(path, f)\n",
        "    shutil.move(src_path, targ_path)"
      ],
      "execution_count": 13,
      "outputs": []
    },
    {
      "cell_type": "code",
      "metadata": {
        "colab": {
          "base_uri": "https://localhost:8080/"
        },
        "id": "GTWnC7Tib3xR",
        "outputId": "d0f60fb5-48af-47a3-b143-508c0cca64a9"
      },
      "source": [
        "try:\n",
        "    shutil.move('/content/data/oxbuild', '/content/sample_data')\n",
        "    print('The directory has been moved successfully')\n",
        "except:\n",
        "    print('The directory has already been moved')"
      ],
      "execution_count": 14,
      "outputs": [
        {
          "output_type": "stream",
          "text": [
            "The directory was moved successfully\n"
          ],
          "name": "stdout"
        }
      ]
    },
    {
      "cell_type": "code",
      "metadata": {
        "id": "_MwqpNVegm9A"
      },
      "source": [
        "from pathlib import Path"
      ],
      "execution_count": 15,
      "outputs": []
    },
    {
      "cell_type": "code",
      "metadata": {
        "id": "0wGlmEnRN-YR",
        "colab": {
          "base_uri": "https://localhost:8080/"
        },
        "outputId": "3bf6cf17-8548-4d99-b53c-93bf39a61653"
      },
      "source": [
        "try:\n",
        "    shutil.move('/content/data/buildings', '/content/sample_data')\n",
        "    print('The directory has been moved successfully')\n",
        "except:\n",
        "    print('The directory has already been moved')"
      ],
      "execution_count": 16,
      "outputs": [
        {
          "output_type": "stream",
          "text": [
            "The directory was moved successfully\n"
          ],
          "name": "stdout"
        }
      ]
    },
    {
      "cell_type": "code",
      "metadata": {
        "colab": {
          "base_uri": "https://localhost:8080/"
        },
        "id": "-TkGAsGIPEGY",
        "outputId": "b12c73a7-4160-41d5-cb9f-4e118b7e2996"
      },
      "source": [
        "!pwd"
      ],
      "execution_count": 17,
      "outputs": [
        {
          "output_type": "stream",
          "text": [
            "/content/sample_data/buildings\n"
          ],
          "name": "stdout"
        }
      ]
    },
    {
      "cell_type": "code",
      "metadata": {
        "id": "0qtAi6Xuwrbb"
      },
      "source": [
        "from torchvision import datasets"
      ],
      "execution_count": 18,
      "outputs": []
    },
    {
      "cell_type": "code",
      "metadata": {
        "id": "s9pceWBszbnu"
      },
      "source": [
        "data_dir = '/content/data'\n",
        "dsets = datasets.ImageFolder(data_dir, preprocess)\n",
        "# with preprocessing\n",
        "# dsets = datasets.ImageFolder(data_dir, preprocess)"
      ],
      "execution_count": 19,
      "outputs": []
    },
    {
      "cell_type": "code",
      "metadata": {
        "colab": {
          "base_uri": "https://localhost:8080/"
        },
        "id": "t-Xi35wJAyR4",
        "outputId": "0498513e-667a-421a-dfc9-5382c987b51c"
      },
      "source": [
        "%ls /content/data"
      ],
      "execution_count": 20,
      "outputs": [
        {
          "output_type": "stream",
          "text": [
            "\u001b[0m\u001b[01;34mall_souls\u001b[0m/  \u001b[01;34mbodleian\u001b[0m/       \u001b[01;34mhertford\u001b[0m/  \u001b[01;34mmagdalen\u001b[0m/  \u001b[01;34moxford\u001b[0m/            \u001b[01;34mtrinity\u001b[0m/\n",
            "\u001b[01;34mashmolean\u001b[0m/  \u001b[01;34mchrist_church\u001b[0m/  \u001b[01;34mjesus\u001b[0m/     \u001b[01;34mnew\u001b[0m/       \u001b[01;34mpitt_rivers\u001b[0m/       \u001b[01;34mworcester\u001b[0m/\n",
            "\u001b[01;34mballiol\u001b[0m/    \u001b[01;34mcornmarket\u001b[0m/     \u001b[01;34mkeble\u001b[0m/     \u001b[01;34moriel\u001b[0m/     \u001b[01;34mradcliffe_camera\u001b[0m/\n"
          ],
          "name": "stdout"
        }
      ]
    },
    {
      "cell_type": "code",
      "metadata": {
        "id": "8hM3xGoK04Lg"
      },
      "source": [
        "data_loader = torch.utils.data.DataLoader(dsets, batch_size=64, shuffle=True, num_workers=6)"
      ],
      "execution_count": 21,
      "outputs": []
    },
    {
      "cell_type": "code",
      "metadata": {
        "colab": {
          "base_uri": "https://localhost:8080/"
        },
        "id": "TNhu1U16imaI",
        "outputId": "96e68ae6-bce7-4b26-d6f0-ac9fe3641ab6"
      },
      "source": [
        "from_text = True\n",
        "text_descriptions = {}\n",
        "if from_text:\n",
        "  s = \"\"\n",
        "  with open(\"/content/oxford2.txt\") as fp:\n",
        "      Lines = fp.readlines()\n",
        "      for line in Lines:\n",
        "          if line.startswith('---'):\n",
        "              if s != \"\":\n",
        "                  text_descriptions.update({building: s})\n",
        "                  print(\"Line {}: {}\".format(building, s))\n",
        "              s = \"\"\n",
        "              building = line[3:-4]\n",
        "          else:\n",
        "              s += ' ' + line[:-2] \n",
        "  text_descriptions.update({building: s})\n",
        "else:\n",
        "  classes = [s.replace('_', ' ') for s in dsets.classes]\n",
        "  text_descriptions = {label: f\"This is a photo of {label}\" for label in classes}"
      ],
      "execution_count": 22,
      "outputs": [
        {
          "output_type": "stream",
          "text": [
            "Line All Souls College:  All Souls College is a constituent college of the University of Oxford in England. The college entrance is on the north side of the High Street whilst it has a long frontage onto Radcliffe Square. To its east is The Queen's College whilst Hertford College is to the north of All Souls\n",
            "Line The Ashmolean Museum:  The Ashmolean Museum of Art and Archaeology on Beaumont Street, Oxford, England, is the world's second university museum  and Britain's first public museum. Its first building was erected in 1678–1683 to house the cabinet of curiosities that Elias Ashmole gave to the University of Oxford in 1677\n",
            "Line Balliol College:  Balliol College is one of the constituent colleges of the University of Oxford in England. One of Oxford's oldest colleges, it was founded around 1263 by John I de Balliol, a rich landowner from Barnard Castle in County Durham, who provided the foundation and endowment for the college. When de Balliol died in 1269 his widow, Dervorguilla, a woman whose wealth far exceeded that of her husband, continued his work in setting up the college, providing a further endowment and writing the statutes. She is considered a co‑founder of the college The college's alumni include the incumbent Prime Minister of the United Kingdom, Boris Johnson, as well as three former prime ministers (H. H. Asquith, Harold Macmillan and Edward Heath), Harald V of Norway, Empress Masako of Japan, five Nobel laureates, and numerous literary and philosophical figures, including Shoghi Effendi, Adam Smith, Gerard Manley Hopkins, and Aldous Huxley. John Wycliffe, who translated the Bible into English, was Master of the college in the 1360s\n",
            "Line The Bodleian Library:  The Bodleian Library is the main research library of the University of Oxford, and is one of the oldest libraries in Europe. With over 13 million printed items,it is the second-largest library in Britain after the British Library. Under the Legal Deposit Libraries Act 2003 it is one of six legal deposit libraries for works published in the United Kingdom, and under Irish law it is entitled to request a copy of each book published in the Republic of Ireland. Known to Oxford scholars as \"Bodley\" or \"the Bod\", it operates principally as a reference library and, in general, documents may not be removed from the reading rooms In 2000, a number of libraries within the University of Oxford were brought together for administrative purposes under the aegis of what was initially known as Oxford University Library Services (OULS), and since 2010 as the Bodleian Libraries, of which the Bodleian Library is the largest component All colleges of the University of Oxford have their own libraries, which in a number of cases were established well before the foundation of the Bodleian, and all of which remain entirely independent of the Bodleian. They do, however, participate in OLIS (Oxford Libraries Information System), the Bodleian Libraries' online union catalogue. Much of the library's archives were digitized and put online for public access in 2015\n",
            "Line Christ Church:  Christ Church is a constituent college of the University of Oxford in England. Christ Church is a joint foundation of the college and the cathedral of the Oxford diocese (Christ Church Cathedral and its cathedral school), which serves as the college chapel and whose dean is ex officio the college head\n",
            "Line Cornmarket Street:  Cornmarket Street is a major shopping street and pedestrian precinct in Oxford, England that runs north to south between Magdalen Street and Carfax Tower To the east is the Golden Cross arcade of small jewellery and craft shops in a courtyard, leading to the Covered Market. To the west is the indoor Clarendon Shopping Centre that connects in an L-shape to Queen Street\n",
            "Line Hertford College:  Hertford College is a constituent college of the University of Oxford in England. It is located on Catte Street in the centre of Oxford, directly opposite the main gate to the Bodleian Library. The college is known for its iconic bridge, the Bridge of Sighs. There are around 600 students at the college at any one time, comprising undergraduates, graduates and visiting students from overseas The first Hertford College began in the 1280s as Hart Hall and became a college in 1740 but was dissolved in 1816. In 1820, the site was taken over by Magdalen Hall, which had emerged around 1490 on a site adjacent to Magdalen College. In 1874, Magdalen Hall was incorporated as a college, reviving the name Hertford College. In 1974, Hertford was part of the first group of all-male Oxford colleges to admit women\n",
            "Line Jesus College:  Jesus College (in full: Jesus College in the University of Oxford of Queen Elizabeth's Foundation) is one of the constituent colleges of the University of Oxford in England. It is in the centre of the city, on a site between Turl Street, Ship Street, Cornmarket Street and Market Street. The college was founded by Elizabeth I on 27 June 1571 for the education of clergy, though students now study a broad range of secular subjects. A major driving force behind the establishment of the college was Hugh Price (or Ap Rhys), a churchman from Brecon in Wales. The oldest buildings, in the first quadrangle, date from the 16th and early 17th centuries; a second quadrangle was added between about 1640 and about 1713, and a third quadrangle was built in about 1906. Further accommodation was built on the main site to mark the 400th anniversary of the college, in 1971, and student flats have been constructed at sites in north and east Oxford The life of the college was disrupted by the English Civil War. Leoline Jenkins, who became principal after the war in 1661, put the college on a more stable financial footing. Little happened at the college during the 18th century, and the 19th century saw a decline in numbers and academic standards. Reforms of Oxford University after two Royal Commissions in the latter half of the 19th century led to removal of many of the restrictions placed on the college's fellowships and scholarships, such that the college ceased to be predominantly full of Welsh students and academics. Students' academic achievements rose in the early 20th century as fellows were appointed to teach in new subjects. Women were first admitted in 1974 and now form a large part of the undergraduate population There are about 475 students at any one time; the Principal of the college is Sir Nigel Shadbolt. Former students include Harold Wilson (who was twice British Prime Minister), Norman Washington Manley (Chief Minister of Jamaica), T. E. Lawrence (\"Lawrence of Arabia\"), Angus Buchanan (winner of the Victoria Cross), and Viscount Sankey (Lord Chancellor). The university's professorship of Celtic is attached to the college, a post held by scholars such as Sir John Rhys, Ellis Evans and Thomas Charles-Edwards. Past or present fellows of the college include the historians Sir Goronwy Edwards and Niall Ferguson, the philosopher Galen Strawson, and the political philosopher John Gray\n",
            "Line Keble College:  Keble College is one of the constituent colleges of the University of Oxford in England. Its main buildings are on Parks Road, opposite the University Museum and the University Parks. The college is bordered to the north by Keble Road, to the south by Museum Road, and to the west by Blackhall Road Keble was established in 1870, having been built as a monument to John Keble, who had been a leading member of the Oxford Movement which sought to stress the Catholic nature of the Church of England. Consequently, the college's original teaching focus was primarily theological, although the college now offers a broad range of subjects, reflecting the diversity of degrees offered across the wider university. In the period after the Second World War the trends were towards scientific courses (proximity to the university science area east of the University Museum influenced this). As originally constituted, it was for men only and the fellows were mostly bachelors resident in the college. Like many of Oxford's men's colleges, Keble admitted its first mixed-sex cohort in 1979 It remains distinctive for its still-controversial neo-gothic red-brick buildings designed by William Butterfield. The buildings are also notable for breaking from Oxbridge tradition by arranging rooms along corridors rather than around staircases, in order that the scouts could supervise the comings and goings of visitors (Girton College, Cambridge, similarly breaks this tradition) Keble is one of the larger colleges of the University of Oxford, with 433 undergraduates and 245 graduate students in 2011/12. Keble's sister college at the University of Cambridge is Selwyn College\n",
            "Line Magdalen College:  Magdalen College is a constituent college of the University of Oxford. It was founded in 1458 by William of Waynflete. Today, it is the fourth wealthiest college, with a financial endowment of £332.1 million as of 2019 and one of the strongest academically, setting the record for the highest Norrington Score in 2010 and topping the table twice since then. It is home to several of the University's distinguished chairs, including the Agnelli-Serena Professorship, the Sherardian Professorship, and the four Waynflete Professorships The large, square Magdalen Tower is an Oxford landmark, and it is a tradition, dating to the days of Henry VII, that the college choir sings from the top of it at 6 a.m. on May Morning. The college stands next to the River Cherwell and the University of Oxford Botanic Garden. Within its grounds are a deer park and Addison's Walk\n",
            "Line New College:  New College is one of the constituent colleges of the University of Oxford in the United Kingdom. Founded in 1379 by William of Wykeham, the full name of the college is The College of St Mary of Winchester in Oxford. The name \"New College\", however, soon came to be used following its completion in 1386 to distinguish it from the older existing college of St Mary, now known as Oriel College In 2017, the college ranked first in the Norrington Table, a table assessing the relative performance of Oxford's undergraduates in final examinations. Historically, it has been ranked highly. It has the 3rd-highest average Norrington Table ranking over the previous decade. The college is located in the centre of Oxford, between Holywell Street and New College Lane (known for Oxford's Bridge of Sighs), next to All Souls College, Harris Manchester College, Hertford College, The Queen's College and St Edmund Hall. The college's sister college is King's College, Cambridge Its striking architecture has made the college a popular location for film and television, featuring in Harry Potter and the Goblet of Fire, Mamma Mia 2: Here We Go Again, and His Dark Materials among others The college is one of the main choral foundations of the University of Oxford. The college choir is regarded as one of the leading choirs of the world, and has recorded over one hundred albums; it has been awarded two Gramophone Awards Like many of Oxford's colleges, New College admitted its first mixed-sex cohort in 1979, after six centuries as an institution for men only\n",
            "Line Oriel College:  Oriel College is a constituent college of the University of Oxford in Oxford, England. Located in Oriel Square, the college has the distinction of being the oldest royal foundation in Oxford (a title formerly claimed by University College, whose claim of being founded by King Alfred is no longer promoted). In recognition of this royal connection, the college has also been historically known as King's College and King's Hall. The reigning monarch of the United Kingdom (since 1952, Elizabeth II) is the official visitor of the college The original medieval foundation established in 1324 by Adam de Brome, under the patronage of King Edward II of England, was the House of the Blessed Mary at Oxford, and the college received a royal charter in 1326. In 1329, an additional royal grant of a manor house, La Oriole, eventually gave rise to its common name. The first design allowed for a provost and ten fellows, called \"scholars\", and the college remained a small body of graduate fellows until the 16th century, when it started to admit undergraduates. During the English Civil War, Oriel played host to high-ranking members of the king's Oxford Parliament The main site of the college incorporates four medieval halls: Bedel Hall, St Mary Hall, St Martin Hall, and Tackley's Inn, the last being the earliest property acquired by the college and the oldest standing medieval hall in Oxford. The college has nearly 40 fellows, about 300 undergraduates and some 250 graduates. Oriel was the last of Oxford's men's colleges to admit women in 1985, after more than six centuries as an all-male institution. Today, however, the student body has almost equal numbers of men and women. Oriel's notable alumni include two Nobel laureates; prominent fellows have included founders of the Oxford Movement. Among Oriel's more notable possessions are a painting by Bernard van Orley and three pieces of medieval silver plate. As of 2018–19, the college is ranked eighth in academic performance out of thirty colleges in the Norrington Table\n",
            "Line Oxford:  Oxford is the county town and only city of Oxfordshire, England. In 2017, its population was recorded at 152,450. It is 56 miles (90 km) northwest of London, 64 miles (103 km) southeast of Birmingham, and 61 miles (98 km) northeast of Bristol The city is home to the University of Oxford, the oldest university in the English-speaking world, and has buildings in every style of English architecture from late Anglo-Saxon. Oxford's industries include motor manufacturing, education, publishing, information technology and science\n",
            "Line Pitt Rivers Museum:  The Pitt Rivers Museum is a museum displaying the archaeological and anthropological collections of the University of Oxford in England. The museum is located to the east of the Oxford University Museum of Natural History, and can only be accessed through that building\n",
            "Line Radcliffe Camera:  The Radcliffe Camera is a building of Oxford University, England, designed by James Gibbs in neo-classical style and built in 1737–49 to house the Radcliffe Science Library. It is sited to the south of the Old Bodleian, north of the Church of St Mary the Virgin, and between Brasenose College to the west and All Souls College to the east. The Radcliffe Camera's circularity, its position in the heart of Oxford, and its separation from other buildings make it the focal point of the University of Oxford, and as such it is almost always included in shorthand visual representations of the university The library's construction and maintenance was funded from the estate of John Radcliffe, a physician who left £40,000 upon his death in 1714. According to the terms of his will, construction only began in 1737, although the intervening period saw the complex purchase of the site. The exterior was complete in 1747 and the interior finished by 1748, although the library's opening was delayed until 13 April 1749 Upon its completion, Francis Wise was appointed as its first librarian. Until 1810, the library housed books covering a wide range of subjects, but under George Williams it narrowed its focus to the sciences. Williams brought the library from a state of neglect up to date, although by 1850 the Radcliffe Library still lagged behind the Bodleian. It was at this point that Henry Wentworth Acland, then librarian, laid out plans for the Radcliffe Library building to merge with the university and the library's collection of books to be moved to the newly constructed Radcliffe Science Library, which were accepted by the library's trustees and the university. It was at this point that the building became known as the Radcliffe Camera, serving as a reading room for the Bodleian. Some visitors and tourists erroneously believe the Radcliffe Camera houses the Bodleian's collection of rare books; however, a large collection of rare and antiquarian books are contained in the nearby Weston Library and Duke Humfrey's Library, and there are in excess of one million searchable records online for books, journals, magazines, newspapers, maps, ephemera, and music printed before 1900 covering antiquarian collections held in almost 60 libraries in Oxford\n",
            "Line Trinity College:  Trinity College is one of the constituent colleges of the University of Oxford in England. The college was founded in 1555 by Sir Thomas Pope, on land previously occupied by Durham College, home to Benedictine monks from Durham Cathedral Despite its large physical size, the college is relatively small in terms of student numbers at approximately 400.\n"
          ],
          "name": "stdout"
        }
      ]
    },
    {
      "cell_type": "code",
      "metadata": {
        "colab": {
          "base_uri": "https://localhost:8080/"
        },
        "id": "U8Sw9Blh_G4D",
        "outputId": "8c24257f-e8c1-4dd1-8e1d-dec972a91b9f"
      },
      "source": [
        "print(*dsets.classes, sep='\\n')"
      ],
      "execution_count": 23,
      "outputs": [
        {
          "output_type": "stream",
          "text": [
            "all_souls\n",
            "ashmolean\n",
            "balliol\n",
            "bodleian\n",
            "christ_church\n",
            "cornmarket\n",
            "hertford\n",
            "jesus\n",
            "keble\n",
            "magdalen\n",
            "new\n",
            "oriel\n",
            "oxford\n",
            "pitt_rivers\n",
            "radcliffe_camera\n",
            "trinity\n",
            "worcester\n"
          ],
          "name": "stdout"
        }
      ]
    },
    {
      "cell_type": "code",
      "metadata": {
        "id": "Ml_-GmA5euRV"
      },
      "source": [
        "text_descriptions"
      ],
      "execution_count": null,
      "outputs": []
    },
    {
      "cell_type": "code",
      "metadata": {
        "id": "aqqb1yQFmT6i"
      },
      "source": [
        "# text_descriptions['All Souls College']"
      ],
      "execution_count": 25,
      "outputs": []
    },
    {
      "cell_type": "code",
      "metadata": {
        "colab": {
          "base_uri": "https://localhost:8080/"
        },
        "id": "ZwYkWf2K-NVH",
        "outputId": "0c1de503-ac9c-4743-d4e5-9fc25ec788b6"
      },
      "source": [
        "!pwd"
      ],
      "execution_count": 26,
      "outputs": [
        {
          "output_type": "stream",
          "text": [
            "/content/sample_data/buildings\n"
          ],
          "name": "stdout"
        }
      ]
    },
    {
      "cell_type": "code",
      "metadata": {
        "colab": {
          "base_uri": "https://localhost:8080/"
        },
        "id": "17n9BKWMl2PM",
        "outputId": "664d334a-3d99-4f05-f3a3-19040fc1e386"
      },
      "source": [
        "%cd /content/"
      ],
      "execution_count": 27,
      "outputs": [
        {
          "output_type": "stream",
          "text": [
            "/content\n"
          ],
          "name": "stdout"
        }
      ]
    },
    {
      "cell_type": "code",
      "metadata": {
        "colab": {
          "base_uri": "https://localhost:8080/"
        },
        "id": "NXLlfjqO5yOw",
        "outputId": "22264098-b02c-4587-9c28-5b8d9bf4541b"
      },
      "source": [
        "tokenizer = SimpleTokenizer()\n",
        "\n",
        "sot_token = tokenizer.encoder['<|startoftext|>']\n",
        "eot_token = tokenizer.encoder['<|endoftext|>']\n",
        "\n",
        "text_tokens = [[sot_token] + tokenizer.encode(desc)[:65] + [eot_token] \n",
        "               for name, desc in text_descriptions.items()]\n",
        "text_input = torch.zeros(len(text_tokens), model.context_length, dtype=torch.long)\n",
        "\n",
        "for i, tokens in enumerate(text_tokens):\n",
        "    text_input[i, :len(tokens)] = torch.tensor(tokens)\n",
        "\n",
        "text_input = text_input.cuda()\n",
        "text_input.shape"
      ],
      "execution_count": 33,
      "outputs": [
        {
          "output_type": "execute_result",
          "data": {
            "text/plain": [
              "torch.Size([17, 77])"
            ]
          },
          "metadata": {
            "tags": []
          },
          "execution_count": 33
        }
      ]
    },
    {
      "cell_type": "code",
      "metadata": {
        "id": "F8OvDiS96REI"
      },
      "source": [
        "with torch.no_grad():\n",
        "    text_features = model.encode_text(text_input).float()\n",
        "    text_features /= text_features.norm(dim=-1, keepdim=True)"
      ],
      "execution_count": 34,
      "outputs": []
    },
    {
      "cell_type": "code",
      "metadata": {
        "id": "79F-7kKH7aMr"
      },
      "source": [
        "import matplotlib.pyplot as plt\n",
        "\n",
        "def imshow(inp, title=None):\n",
        "#   Imshow for Tensor.\n",
        "    inp = inp.numpy().transpose((1, 2, 0))\n",
        "    mean = np.array([0.485, 0.456, 0.406])\n",
        "    std = np.array([0.229, 0.224, 0.225])\n",
        "    inp = np.clip(std * inp + mean, 0,1)\n",
        "    plt.imshow(inp)\n",
        "    if title is not None:\n",
        "        plt.title(title)"
      ],
      "execution_count": 35,
      "outputs": []
    },
    {
      "cell_type": "code",
      "metadata": {
        "colab": {
          "base_uri": "https://localhost:8080/"
        },
        "id": "NcYqrAHR1REo",
        "outputId": "da08a2e9-49eb-4003-e657-cfcc26c1ffe3"
      },
      "source": [
        "acc, acc_top5, count = 0, 0, 0\n",
        "for i, (x, label) in enumerate(data_loader):\n",
        "    \n",
        "    with torch.no_grad():\n",
        "        image_input = torch.tensor(np.stack(x)).cuda()\n",
        "        # image_input -= image_mean[:, None, None]\n",
        "        # image_input /= image_std[:, None, None]\n",
        "        image_features = model.encode_image(image_input).float()\n",
        "\n",
        "    text_probs = (100.0 * image_features @ text_features.T).softmax(dim=-1)\n",
        "    top_probs, top_labels = text_probs.cpu().topk(5, dim=-1)\n",
        "\n",
        "    acc += (top_labels[:, 0] == label).sum()\n",
        "    # print(top_labels[:, 0], label)\n",
        "    count += len(label)\n",
        "    for k in range(5):\n",
        "        acc_top5 += (top_labels[:,k] == label).sum()\n",
        "\n",
        "    if i % 10 == 0: \n",
        "      print('%3d' %i, 'batches processed |', \n",
        "            'Accuracy is %.3f |' %(acc / count), \n",
        "            'Top 5 accuracy is %.3f' %(acc_top5 / count))\n",
        "print('-'*85)\n",
        "print('Total accuracy is %.3f |' %(acc / count), \n",
        "      'Top 5 accuracy is %.3f' %(acc_top5 / count))"
      ],
      "execution_count": 36,
      "outputs": [
        {
          "output_type": "stream",
          "text": [
            "  0 batches processed | Accuracy is 0.266 | Top 5 accuracy is 0.594\n",
            " 10 batches processed | Accuracy is 0.298 | Top 5 accuracy is 0.672\n",
            " 20 batches processed | Accuracy is 0.313 | Top 5 accuracy is 0.699\n",
            " 30 batches processed | Accuracy is 0.315 | Top 5 accuracy is 0.704\n",
            " 40 batches processed | Accuracy is 0.318 | Top 5 accuracy is 0.707\n",
            " 50 batches processed | Accuracy is 0.313 | Top 5 accuracy is 0.704\n",
            " 60 batches processed | Accuracy is 0.314 | Top 5 accuracy is 0.706\n",
            " 70 batches processed | Accuracy is 0.310 | Top 5 accuracy is 0.704\n",
            "-------------------------------------------------------------------------------------\n",
            "Total accuracy is 0.311 | Top 5 accuracy is 0.705\n"
          ],
          "name": "stdout"
        }
      ]
    },
    {
      "cell_type": "code",
      "metadata": {
        "id": "s82YDMmzSaUU",
        "colab": {
          "base_uri": "https://localhost:8080/"
        },
        "outputId": "9d445675-00f6-4fd3-97ff-76c8fceeff72"
      },
      "source": [
        "print('Accuracy is %.3f |' %(acc / count), \n",
        "      'Top 5 accuracy is %.3f' %(acc_top5 / count))"
      ],
      "execution_count": 37,
      "outputs": [
        {
          "output_type": "stream",
          "text": [
            "Accuracy is 0.311 | Top 5 accuracy is 0.705\n"
          ],
          "name": "stdout"
        }
      ]
    },
    {
      "cell_type": "code",
      "metadata": {
        "id": "hSmV6t1smFlA"
      },
      "source": [
        ""
      ],
      "execution_count": 32,
      "outputs": []
    }
  ]
}